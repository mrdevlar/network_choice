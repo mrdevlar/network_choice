{
 "cells": [
  {
   "cell_type": "markdown",
   "metadata": {},
   "source": [
    "# Network Choice Model\n",
    "\n",
    "*Richard Podkolinski*\n",
    "\n",
    "*2018-02-12*\n",
    "\n",
    "\n",
    "## Introduction\n",
    "How do we simulate binary choices in a network?\n",
    "\n",
    "If we're talking about a choice on a single idea, it appears correct to simulate such interactions using a Bernoilli, Binomial and Beta distributions.\n",
    "\n",
    "So let's define the actors in our play:\n",
    "\n",
    "### Bernouilli Distribution\n",
    "Let us define a random variable, $X$, where $P(X = 1) = p$ and $P(X = 0) = 1 - p$, where 1 stands for an accepting choice and 0 stands for a rejecting choice. This is the Bernoulli distribution, and it defines the probability of a single choice.\n",
    "\n",
    "### Binomial Distribution\n",
    "If we extend the Bernoulli to a series of independent choices, we will note that we will have a certain proportion of acceptances and rejections. The probability for any specific sequence of $k$ acceptances and $n-k$ rejections will be $p^k(1-p)^{n-k}$ and there will be $\\binom{n}{k}$ such sequences. Thus, letting $X$ be the number of acceptances:\n",
    "\n",
    "$$P(X = k) = \\binom{n}{k}p^k(1-p)^{n-k}$$\n",
    "for $k = 0,1,...,n$ and $P(X=k) = 0$ otherwise\n",
    "\n",
    "\n",
    "\n"
   ]
  },
  {
   "cell_type": "code",
   "execution_count": null,
   "metadata": {},
   "outputs": [],
   "source": []
  }
 ],
 "metadata": {
  "kernelspec": {
   "display_name": "Python 3",
   "language": "python",
   "name": "python3"
  },
  "language_info": {
   "codemirror_mode": {
    "name": "ipython",
    "version": 3
   },
   "file_extension": ".py",
   "mimetype": "text/x-python",
   "name": "python",
   "nbconvert_exporter": "python",
   "pygments_lexer": "ipython3",
   "version": "3.6.4"
  }
 },
 "nbformat": 4,
 "nbformat_minor": 2
}
